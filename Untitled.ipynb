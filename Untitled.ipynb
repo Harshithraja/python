{
 "cells": [
  {
   "cell_type": "code",
   "execution_count": 1,
   "id": "bc406525",
   "metadata": {},
   "outputs": [
    {
     "name": "stdout",
     "output_type": "stream",
     "text": [
      "Enter the Valid First Name: hars\n",
      "Enter the valid Surname: rah\n",
      "Enter the Valid Phone number: 9620482105\n",
      "Enter the valid age: 23\n",
      "enter the city: bang\n",
      "Enter the salary: 100\n",
      "Enter the department name: mech\n",
      "Congratulations!! You entered the valid Details :)\n"
     ]
    }
   ],
   "source": [
    "while True:\n",
    "    firstName = input(\"Enter the Valid First Name: \")\n",
    "    surName = input(\"Enter the valid Surname: \")\n",
    "    phoneno = input(\"Enter the Valid Phone number: \")\n",
    "    age = input(\"Enter the valid age: \")\n",
    "    city = input(\"enter the city: \")\n",
    "    salary = input(\"Enter the salary: \")\n",
    "    Department_Name = input(\"Enter the department name: \")\n",
    "    if(firstName.isalpha() and surName.isalpha() and phoneno.isnumeric() and age.isnumeric() and city.isalpha() and salary.isnumeric() and Department_Name.isalpha()):\n",
    "        if(len(firstName) > 0 and len(surName) > 0 and len(phoneno) == 10 and len(age) <= 3 and len(city) >0 and len(salary) > 0 and len(Department_Name) > 0):\n",
    "            print(\"Congratulations!! You entered the valid Details :)\")\n",
    "            break\n",
    "    else:\n",
    "        print(\"You entered invalid details\")\n",
    "        print(\"Try Again :(\")"
   ]
  },
  {
   "cell_type": "code",
   "execution_count": null,
   "id": "d66aa760",
   "metadata": {},
   "outputs": [],
   "source": []
  },
  {
   "cell_type": "markdown",
   "id": "01603fea",
   "metadata": {},
   "source": [
    "# "
   ]
  }
 ],
 "metadata": {
  "kernelspec": {
   "display_name": "Python 3 (ipykernel)",
   "language": "python",
   "name": "python3"
  },
  "language_info": {
   "codemirror_mode": {
    "name": "ipython",
    "version": 3
   },
   "file_extension": ".py",
   "mimetype": "text/x-python",
   "name": "python",
   "nbconvert_exporter": "python",
   "pygments_lexer": "ipython3",
   "version": "3.9.12"
  }
 },
 "nbformat": 4,
 "nbformat_minor": 5
}
