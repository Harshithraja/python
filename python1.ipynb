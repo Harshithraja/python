{
 "cells": [
  {
   "cell_type": "code",
   "execution_count": null,
   "id": "ddc33be1",
   "metadata": {},
   "outputs": [],
   "source": [
    "print (\"harshith raja\")"
   ]
  },
  {
   "cell_type": "raw",
   "id": "9bac2531",
   "metadata": {},
   "source": []
  },
  {
   "cell_type": "code",
   "execution_count": null,
   "id": "b6a673c4",
   "metadata": {},
   "outputs": [],
   "source": [
    "var1= \"10\"\n",
    "var2 = \" harshith\"\n",
    "var4 = var1 + var2\n",
    "print(var4)"
   ]
  },
  {
   "cell_type": "code",
   "execution_count": 16,
   "id": "1e55f814",
   "metadata": {},
   "outputs": [
    {
     "name": "stdout",
     "output_type": "stream",
     "text": [
      "enter first name: harsh\n",
      "enter last name: raj\n",
      "enter the DOB DD MM yyyy06 04 1998\n",
      "enter the phone number:987\n",
      "My full name is harsh raj\n",
      "My age is 2022\n",
      "my phone number is 987\n"
     ]
    }
   ],
   "source": [
    "FirstName = input(\"enter first name: \")\n",
    "Lastname = input(\"enter last name: \")\n",
    "DOB = input(\"enter the DOB DD MM yyyy\")\n",
    "newDOB = DOB.split()\n",
    "age = 2022 - int(DOB[3])\n",
    "phoneno = int(input(\"enter the phone number:\"))\n",
    "\n",
    "print(\"My full name is {0} {1}\".format(FirstName,Lastname))\n",
    "print(\"My age is {0}\".format(age))\n",
    "print(\"my phone number is {0}\".format(phoneno))\n"
   ]
  },
  {
   "cell_type": "code",
   "execution_count": null,
   "id": "ab7977c4",
   "metadata": {},
   "outputs": [],
   "source": [
    "from datetime import date\n",
    "today = date.today()\n",
    "print()"
   ]
  },
  {
   "cell_type": "code",
   "execution_count": 5,
   "id": "25cd210b",
   "metadata": {},
   "outputs": [
    {
     "name": "stdout",
     "output_type": "stream",
     "text": [
      "H\n",
      "T\n",
      "I\n",
      "H\n",
      "S\n",
      "R\n",
      "A\n",
      "H\n"
     ]
    }
   ],
   "source": [
    "name = \"Harshith\"\n",
    "for i in NAME[::-1]:\n",
    "    print(i, end= \"\\n\")\n",
    "    \n",
    "    \n",
    "    \n",
    "    "
   ]
  },
  {
   "cell_type": "code",
   "execution_count": 3,
   "id": "77b98afc",
   "metadata": {},
   "outputs": [
    {
     "data": {
      "text/plain": [
       "'HTIHSRAH'"
      ]
     },
     "execution_count": 3,
     "metadata": {},
     "output_type": "execute_result"
    }
   ],
   "source": []
  },
  {
   "cell_type": "code",
   "execution_count": 12,
   "id": "388ca262",
   "metadata": {},
   "outputs": [
    {
     "name": "stdout",
     "output_type": "stream",
     "text": [
      "enter the word\n",
      "books\n",
      "['science', 'bio', 'english']\n"
     ]
    }
   ],
   "source": [
    "d1 = {\"books\":[\"science\",\"bio\",\"english\"],\"class\":[\"10th\",\"12th\"]}\n",
    "print(\"enter the word\")\n",
    "var1 = input()\n",
    "print(d1[var1])\n",
    "      \n",
    "      \n",
    "      "
   ]
  },
  {
   "cell_type": "code",
   "execution_count": 3,
   "id": "4158744c",
   "metadata": {},
   "outputs": [
    {
     "name": "stdout",
     "output_type": "stream",
     "text": [
      "enter the worda\n",
      "a is vowel\n"
     ]
    }
   ],
   "source": [
    "var = input(\"enter the word\")\n",
    "if var == \"a\":\n",
    "    print(\"a is vowel\")\n",
    "elif var == \"e\":\n",
    "    print(\"e is vowel\")\n",
    "elif var == \"i\":\n",
    "    print(\"i is vowel\")\n",
    "elif var == \"o\":\n",
    "    print(\"o is vowel\")\n",
    "elif var == \"u\":\n",
    "    print(\"u is vowel\")\n",
    "else:\n",
    "    print(\"var is alphabate\")"
   ]
  },
  {
   "cell_type": "code",
   "execution_count": 18,
   "id": "ae6956d8",
   "metadata": {},
   "outputs": [
    {
     "name": "stdout",
     "output_type": "stream",
     "text": [
      "enter the student nameharsh\n",
      "enter the number of classes attended89\n",
      "eligable for exam\n"
     ]
    }
   ],
   "source": [
    "input(\"enter the student name\")\n",
    "total_class = 100\n",
    "classes_attended = int(input(\"enter the number of classes attended\"))\n",
    "if(classes_attended > 70):\n",
    "    \n",
    "    print(\"eligable for exam\")\n",
    "else:\n",
    "    \n",
    "    print(\"Not eligable for exam\")"
   ]
  },
  {
   "cell_type": "code",
   "execution_count": 31,
   "id": "0fff0583",
   "metadata": {
    "scrolled": true
   },
   "outputs": [
    {
     "name": "stdout",
     "output_type": "stream",
     "text": [
      "Enter the name: jbkv\n"
     ]
    },
    {
     "ename": "TypeError",
     "evalue": "'str' object is not callable",
     "output_type": "error",
     "traceback": [
      "\u001b[1;31m---------------------------------------------------------------------------\u001b[0m",
      "\u001b[1;31mTypeError\u001b[0m                                 Traceback (most recent call last)",
      "Input \u001b[1;32mIn [31]\u001b[0m, in \u001b[0;36m<cell line: 7>\u001b[1;34m()\u001b[0m\n\u001b[0;32m      4\u001b[0m         \u001b[38;5;28mprint\u001b[39m(\u001b[38;5;124m\"\u001b[39m\u001b[38;5;124mYour name should not blank\u001b[39m\u001b[38;5;124m\"\u001b[39m)\n\u001b[0;32m      5\u001b[0m \u001b[38;5;66;03m#     else:\u001b[39;00m\n\u001b[0;32m      6\u001b[0m \u001b[38;5;66;03m#         print(\"Valid\")\u001b[39;00m\n\u001b[1;32m----> 7\u001b[0m \u001b[38;5;28;43mprint\u001b[39;49m\u001b[43m(\u001b[49m\u001b[38;5;124;43m\"\u001b[39;49m\u001b[38;5;124;43mValid\u001b[39;49m\u001b[38;5;124;43m\"\u001b[39;49m\u001b[43m)\u001b[49m\n",
      "\u001b[1;31mTypeError\u001b[0m: 'str' object is not callable"
     ]
    }
   ],
   "source": [
    "name = input(\"Enter the name: \")`\n",
    "for name1 in name:\n",
    "    if len(name1) < 0:\n",
    "        print(\"Your name should not blank\")\n",
    "#     else:\n",
    "#         print(\"Valid\")\n",
    "print(\"Valid\")"
   ]
  },
  {
   "cell_type": "code",
   "execution_count": 35,
   "id": "185450e1",
   "metadata": {},
   "outputs": [
    {
     "name": "stdout",
     "output_type": "stream",
     "text": [
      "Enter the namehar\n",
      "Enter the phone number9620\n",
      "Enter the nameharshith\n",
      "Enter the phone number9620482105\n"
     ]
    },
    {
     "ename": "TypeError",
     "evalue": "'str' object is not callable",
     "output_type": "error",
     "traceback": [
      "\u001b[1;31m---------------------------------------------------------------------------\u001b[0m",
      "\u001b[1;31mTypeError\u001b[0m                                 Traceback (most recent call last)",
      "Input \u001b[1;32mIn [35]\u001b[0m, in \u001b[0;36m<cell line: 2>\u001b[1;34m()\u001b[0m\n\u001b[0;32m      4\u001b[0m \u001b[38;5;28;01mif\u001b[39;00m(name\u001b[38;5;241m.\u001b[39misalpha() \u001b[38;5;129;01mand\u001b[39;00m phoneno\u001b[38;5;241m.\u001b[39misnumeric()):\n\u001b[0;32m      5\u001b[0m     \u001b[38;5;28;01mif\u001b[39;00m(\u001b[38;5;28mlen\u001b[39m(name) \u001b[38;5;241m>\u001b[39m \u001b[38;5;241m0\u001b[39m \u001b[38;5;129;01mand\u001b[39;00m \u001b[38;5;28mlen\u001b[39m(phoneno) \u001b[38;5;241m==\u001b[39m \u001b[38;5;241m10\u001b[39m):\n\u001b[1;32m----> 6\u001b[0m         \u001b[38;5;28;43mprint\u001b[39;49m\u001b[43m(\u001b[49m\u001b[38;5;124;43m\"\u001b[39;49m\u001b[38;5;124;43mInformation is valid\u001b[39;49m\u001b[38;5;124;43m\"\u001b[39;49m\u001b[43m)\u001b[49m\n\u001b[0;32m      7\u001b[0m         \u001b[38;5;28;01mbreak\u001b[39;00m\n\u001b[0;32m      8\u001b[0m \u001b[38;5;28;01melse\u001b[39;00m:\n",
      "\u001b[1;31mTypeError\u001b[0m: 'str' object is not callable"
     ]
    }
   ],
   "source": [
    "while True:\n",
    "    name = input(\"Enter the name\")\n",
    "    phoneno = input(\"Enter the phone number\")\n",
    "    if(name.isalpha() and phoneno.isnumeric()):\n",
    "        if(len(name) > 0 and len(phoneno) == 10):\n",
    "            print(\"Information is valid\")\n",
    "            break\n",
    "    else:\n",
    "        print(\"enter the the valid details\")\n",
    "    \n",
    "    "
   ]
  },
  {
   "cell_type": "code",
   "execution_count": 36,
   "id": "c5227398",
   "metadata": {},
   "outputs": [
    {
     "name": "stdout",
     "output_type": "stream",
     "text": [
      "Enter the Valid name: hars\n",
      "Enter the Valid Phone number: 9507462521\n"
     ]
    },
    {
     "ename": "TypeError",
     "evalue": "'str' object is not callable",
     "output_type": "error",
     "traceback": [
      "\u001b[1;31m---------------------------------------------------------------------------\u001b[0m",
      "\u001b[1;31mTypeError\u001b[0m                                 Traceback (most recent call last)",
      "Input \u001b[1;32mIn [36]\u001b[0m, in \u001b[0;36m<cell line: 2>\u001b[1;34m()\u001b[0m\n\u001b[0;32m      4\u001b[0m \u001b[38;5;28;01mif\u001b[39;00m(name\u001b[38;5;241m.\u001b[39misalpha() \u001b[38;5;129;01mand\u001b[39;00m phoneno\u001b[38;5;241m.\u001b[39misnumeric()):\n\u001b[0;32m      5\u001b[0m     \u001b[38;5;28;01mif\u001b[39;00m(\u001b[38;5;28mlen\u001b[39m(name) \u001b[38;5;241m>\u001b[39m \u001b[38;5;241m0\u001b[39m \u001b[38;5;129;01mand\u001b[39;00m \u001b[38;5;28mlen\u001b[39m(phoneno) \u001b[38;5;241m==\u001b[39m \u001b[38;5;241m10\u001b[39m):\n\u001b[1;32m----> 6\u001b[0m         \u001b[38;5;28;43mprint\u001b[39;49m\u001b[43m(\u001b[49m\u001b[38;5;124;43m\"\u001b[39;49m\u001b[38;5;124;43mCongratulations!! You entered the valid Details :)\u001b[39;49m\u001b[38;5;124;43m\"\u001b[39;49m\u001b[43m)\u001b[49m\n\u001b[0;32m      7\u001b[0m         \u001b[38;5;28;01mbreak\u001b[39;00m\n\u001b[0;32m      8\u001b[0m \u001b[38;5;28;01melse\u001b[39;00m:\n",
      "\u001b[1;31mTypeError\u001b[0m: 'str' object is not callable"
     ]
    }
   ],
   "source": [
    "while True:\n",
    "    name = input(\"Enter the Valid name: \")\n",
    "    phoneno = input(\"Enter the Valid Phone number: \")\n",
    "    if(name.isalpha() and phoneno.isnumeric()):\n",
    "        if(len(name) > 0 and len(phoneno) == 10):\n",
    "            print(\"Congratulations!! You entered the valid Details :)\")\n",
    "            break\n",
    "    else:\n",
    "        print(\"You entered invalid details\")\n",
    "        print(\"Try Again :(\")"
   ]
  },
  {
   "cell_type": "code",
   "execution_count": null,
   "id": "a1e15fdb",
   "metadata": {},
   "outputs": [],
   "source": []
  }
 ],
 "metadata": {
  "kernelspec": {
   "display_name": "Python 3 (ipykernel)",
   "language": "python",
   "name": "python3"
  },
  "language_info": {
   "codemirror_mode": {
    "name": "ipython",
    "version": 3
   },
   "file_extension": ".py",
   "mimetype": "text/x-python",
   "name": "python",
   "nbconvert_exporter": "python",
   "pygments_lexer": "ipython3",
   "version": "3.9.12"
  }
 },
 "nbformat": 4,
 "nbformat_minor": 5
}
